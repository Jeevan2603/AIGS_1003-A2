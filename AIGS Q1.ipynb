{
  "nbformat": 4,
  "nbformat_minor": 0,
  "metadata": {
    "colab": {
      "provenance": []
    },
    "kernelspec": {
      "name": "python3",
      "display_name": "Python 3"
    },
    "language_info": {
      "name": "python"
    }
  },
  "cells": [
    {
      "cell_type": "code",
      "execution_count": 41,
      "metadata": {
        "id": "kJTNNlWTvx2Z"
      },
      "outputs": [],
      "source": [
        "    import tensorflow as tf\n",
        "    from tensorflow.keras.layers import Dense\n",
        "    import pandas as pd\n",
        "    import numpy as np\n",
        "    import matplotlib.pyplot as plt\n",
        "    import sklearn\n",
        "    from sklearn.model_selection import train_test_split"
      ]
    },
    {
      "cell_type": "code",
      "source": [
        "test_data = pd.read_csv('testData.txt', sep=',')\n",
        "train_data = pd.read_csv('trainData.txt', sep=',')\n",
        "\n",
        "test_data.info()"
      ],
      "metadata": {
        "colab": {
          "base_uri": "https://localhost:8080/"
        },
        "id": "7BrrQYD3v16Y",
        "outputId": "57e110dc-cbb7-4480-91d0-0a917f88d60c"
      },
      "execution_count": 42,
      "outputs": [
        {
          "output_type": "stream",
          "name": "stdout",
          "text": [
            "<class 'pandas.core.frame.DataFrame'>\n",
            "Int64Index: 9752 entries, 1 to 9752\n",
            "Data columns (total 7 columns):\n",
            " #   Column         Non-Null Count  Dtype  \n",
            "---  ------         --------------  -----  \n",
            " 0   date           9752 non-null   object \n",
            " 1   Temperature    9752 non-null   float64\n",
            " 2   Humidity       9752 non-null   float64\n",
            " 3   Light          9752 non-null   float64\n",
            " 4   CO2            9752 non-null   float64\n",
            " 5   HumidityRatio  9752 non-null   float64\n",
            " 6   Occupancy      9752 non-null   int64  \n",
            "dtypes: float64(5), int64(1), object(1)\n",
            "memory usage: 609.5+ KB\n"
          ]
        }
      ]
    },
    {
      "cell_type": "code",
      "source": [
        "train_data.info()"
      ],
      "metadata": {
        "colab": {
          "base_uri": "https://localhost:8080/"
        },
        "id": "xyFKBl3bv-kU",
        "outputId": "d2d2fdab-b6f6-44a5-c342-c42fa396cf9b"
      },
      "execution_count": 43,
      "outputs": [
        {
          "output_type": "stream",
          "name": "stdout",
          "text": [
            "<class 'pandas.core.frame.DataFrame'>\n",
            "Int64Index: 8143 entries, 1 to 8143\n",
            "Data columns (total 7 columns):\n",
            " #   Column         Non-Null Count  Dtype  \n",
            "---  ------         --------------  -----  \n",
            " 0   date           8143 non-null   object \n",
            " 1   Temperature    8143 non-null   float64\n",
            " 2   Humidity       8143 non-null   float64\n",
            " 3   Light          8143 non-null   float64\n",
            " 4   CO2            8143 non-null   float64\n",
            " 5   HumidityRatio  8143 non-null   float64\n",
            " 6   Occupancy      8143 non-null   int64  \n",
            "dtypes: float64(5), int64(1), object(1)\n",
            "memory usage: 508.9+ KB\n"
          ]
        }
      ]
    },
    {
      "cell_type": "code",
      "source": [
        "print(test_data.shape)\n",
        "print(train_data.shape)"
      ],
      "metadata": {
        "colab": {
          "base_uri": "https://localhost:8080/"
        },
        "id": "H24V8Uj-wDXR",
        "outputId": "ecc87d96-3834-49fe-ee5d-88d52c512db9"
      },
      "execution_count": 44,
      "outputs": [
        {
          "output_type": "stream",
          "name": "stdout",
          "text": [
            "(9752, 7)\n",
            "(8143, 7)\n"
          ]
        }
      ]
    },
    {
      "cell_type": "code",
      "source": [
        "X = train_data.iloc[:5000, 1:6]\n",
        "Y = test_data.iloc[:5000, -1:]\n",
        "\n",
        "train_x, test_x, train_y, test_y = train_test_split(X, Y, test_size=0.2, random_state=0)"
      ],
      "metadata": {
        "id": "mpAeBDCJwE2r"
      },
      "execution_count": 45,
      "outputs": []
    },
    {
      "cell_type": "code",
      "source": [
        "print(train_x.shape, train_y.shape, test_x.shape, test_y.shape)"
      ],
      "metadata": {
        "colab": {
          "base_uri": "https://localhost:8080/"
        },
        "id": "ClsjJdoGwGey",
        "outputId": "6ad82d18-d089-4bb7-dd6c-14bd4b3edd8f"
      },
      "execution_count": 46,
      "outputs": [
        {
          "output_type": "stream",
          "name": "stdout",
          "text": [
            "(4000, 5) (4000, 1) (1000, 5) (1000, 1)\n"
          ]
        }
      ]
    },
    {
      "cell_type": "code",
      "source": [
        "model = tf.keras.Sequential()\n",
        "model.add(Dense(16, activation='relu', input_shape=(5, ))) \n",
        "model.add(Dense(32, activation='softplus')) \n",
        "model.add(Dense(1, activation='sigmoid')) \n",
        "\n",
        "model.summary()"
      ],
      "metadata": {
        "colab": {
          "base_uri": "https://localhost:8080/"
        },
        "id": "bAykKNahwIYZ",
        "outputId": "d277e161-fdf0-4262-9b6a-d1af52979ed7"
      },
      "execution_count": 47,
      "outputs": [
        {
          "output_type": "stream",
          "name": "stdout",
          "text": [
            "Model: \"sequential_4\"\n",
            "_________________________________________________________________\n",
            " Layer (type)                Output Shape              Param #   \n",
            "=================================================================\n",
            " dense_14 (Dense)            (None, 16)                96        \n",
            "                                                                 \n",
            " dense_15 (Dense)            (None, 32)                544       \n",
            "                                                                 \n",
            " dense_16 (Dense)            (None, 1)                 33        \n",
            "                                                                 \n",
            "=================================================================\n",
            "Total params: 673\n",
            "Trainable params: 673\n",
            "Non-trainable params: 0\n",
            "_________________________________________________________________\n"
          ]
        }
      ]
    },
    {
      "cell_type": "code",
      "source": [
        "loss_function = tf.keras.losses.BinaryCrossentropy()\n",
        "model.compile(optimizer= 'adam', loss= loss_function, metrics=['accuracy'])"
      ],
      "metadata": {
        "id": "YQPgbAapwJ-5"
      },
      "execution_count": 48,
      "outputs": []
    },
    {
      "cell_type": "code",
      "source": [
        "training_loss, training_acc = model.evaluate(train_x, train_y)\n",
        "testing_loss, testing_acc = model.evaluate(test_x, test_y)"
      ],
      "metadata": {
        "colab": {
          "base_uri": "https://localhost:8080/"
        },
        "id": "nYz7guGlwLrl",
        "outputId": "4977115a-eb83-4536-cd59-5c1e3735fbbd"
      },
      "execution_count": 49,
      "outputs": [
        {
          "output_type": "stream",
          "name": "stdout",
          "text": [
            "125/125 [==============================] - 0s 1ms/step - loss: 91.4413 - accuracy: 0.1890\n",
            "32/32 [==============================] - 0s 957us/step - loss: 91.7200 - accuracy: 0.1960\n"
          ]
        }
      ]
    },
    {
      "cell_type": "code",
      "source": [
        "prediction = model.predict(test_x)\n",
        "test_prediction = np.argmax(prediction, axis = 1)\n",
        "confusion_matrix = tf.math.confusion_matrix(labels= test_y, predictions=test_prediction)\n",
        "print(confusion_matrix)"
      ],
      "metadata": {
        "colab": {
          "base_uri": "https://localhost:8080/"
        },
        "id": "pN_NedsSwNZ9",
        "outputId": "1ab1e22c-8778-449e-e569-a0724f375294"
      },
      "execution_count": 50,
      "outputs": [
        {
          "output_type": "stream",
          "name": "stdout",
          "text": [
            "32/32 [==============================] - 0s 820us/step\n",
            "tf.Tensor(\n",
            "[[804   0]\n",
            " [196   0]], shape=(2, 2), dtype=int32)\n"
          ]
        }
      ]
    },
    {
      "cell_type": "code",
      "source": [
        "fit_model = model.fit(train_x, train_y, epochs = 5, validation_split = 0.3)\n",
        "\n",
        "\n",
        "plt.plot(fit_model.history['accuracy'])\n",
        "plt.plot(fit_model.history['val_accuracy'])\n",
        "plt.legend(['Training accuracy', 'Validation accuracy'])\n",
        "plt.title('Trianing and Validation Accuracies')\n",
        "plt.xlabel('Epoch#')\n",
        "plt.ylabel('Accuracy')"
      ],
      "metadata": {
        "colab": {
          "base_uri": "https://localhost:8080/",
          "height": 486
        },
        "id": "_uoFftQYwPrO",
        "outputId": "cd9da9d2-434e-420b-b5a7-96fb8983d11b"
      },
      "execution_count": 57,
      "outputs": [
        {
          "output_type": "stream",
          "name": "stdout",
          "text": [
            "Epoch 1/5\n",
            "88/88 [==============================] - 0s 2ms/step - loss: 0.4060 - accuracy: 0.8325 - val_loss: 0.3963 - val_accuracy: 0.8067\n",
            "Epoch 2/5\n",
            "88/88 [==============================] - 0s 2ms/step - loss: 0.3898 - accuracy: 0.8386 - val_loss: 0.4219 - val_accuracy: 0.8292\n",
            "Epoch 3/5\n",
            "88/88 [==============================] - 0s 2ms/step - loss: 0.4019 - accuracy: 0.8282 - val_loss: 0.6989 - val_accuracy: 0.8025\n",
            "Epoch 4/5\n",
            "88/88 [==============================] - 0s 2ms/step - loss: 0.3981 - accuracy: 0.8393 - val_loss: 0.5349 - val_accuracy: 0.8258\n",
            "Epoch 5/5\n",
            "88/88 [==============================] - 0s 2ms/step - loss: 0.4211 - accuracy: 0.8232 - val_loss: 0.3881 - val_accuracy: 0.8083\n"
          ]
        },
        {
          "output_type": "execute_result",
          "data": {
            "text/plain": [
              "Text(0, 0.5, 'Accuracy')"
            ]
          },
          "metadata": {},
          "execution_count": 57
        },
        {
          "output_type": "display_data",
          "data": {
            "text/plain": [
              "<Figure size 432x288 with 1 Axes>"
            ],
            "image/png": "[encoded data removed]"
          },
          "metadata": {
            "needs_background": "light"
          }
        }
      ]
    },
    {
      "cell_type": "code",
      "source": [
        "plt.plot(fit_model.history['loss'])\n",
        "plt.plot(fit_model.history['val_loss'])\n",
        "plt.legend(['Training loss', 'Validation loss'])\n",
        "plt.title('Trianing & Validation Losses')\n",
        "plt.xlabel('Epochs#')\n",
        "plt.ylabel('Loss')"
      ],
      "metadata": {
        "colab": {
          "base_uri": "https://localhost:8080/",
          "height": 312
        },
        "id": "5ac2uEhfwRUj",
        "outputId": "156c2605-6f94-4038-d6ea-ee2e2089d786"
      },
      "execution_count": 58,
      "outputs": [
        {
          "output_type": "execute_result",
          "data": {
            "text/plain": [
              "Text(0, 0.5, 'Loss')"
            ]
          },
          "metadata": {},
          "execution_count": 58
        },
        {
          "output_type": "display_data",
          "data": {
            "text/plain": [
              "<Figure size 432x288 with 1 Axes>"
            ],
            "image/png": "[encoded data removed]"
          },
          "metadata": {
            "needs_background": "light"
          }
        }
      ]
    },
    {
      "cell_type": "code",
      "source": [
        "test_prediction = model.predict(test_x)\n",
        "test_prediction_label = np.argmax(test_prediction, axis = 1)\n",
        "confusion_matrix = tf.math.confusion_matrix(labels = test_y, predictions = test_prediction_label)\n",
        "print('confusion Matrix\\n', confusion_matrix)"
      ],
      "metadata": {
        "colab": {
          "base_uri": "https://localhost:8080/"
        },
        "id": "D2C7KWokwTbj",
        "outputId": "0fa78e59-6e16-48cf-b454-ad0cb07a5df4"
      },
      "execution_count": 59,
      "outputs": [
        {
          "output_type": "stream",
          "name": "stdout",
          "text": [
            "32/32 [==============================] - 0s 798us/step\n",
            "confusion Matrix\n",
            " tf.Tensor(\n",
            "[[804   0]\n",
            " [196   0]], shape=(2, 2), dtype=int32)\n"
          ]
        }
      ]
    },
    {
      "cell_type": "code",
      "source": [
        "model2 = tf.keras.Sequential()\n",
        "model2.add(Dense(16, activation='relu',input_shape=(5, ))) \n",
        "model2.add(Dense(32, activation='softplus'))\n",
        "model2.add(Dense(32, activation='softplus')) \n",
        "model2.add(Dense(1, activation='sigmoid')) \n",
        "\n",
        "model2.summary()"
      ],
      "metadata": {
        "colab": {
          "base_uri": "https://localhost:8080/"
        },
        "id": "Oma-I4LawVos",
        "outputId": "334211d7-bd70-4a7a-8140-d8739809b6d2"
      },
      "execution_count": 60,
      "outputs": [
        {
          "output_type": "stream",
          "name": "stdout",
          "text": [
            "Model: \"sequential_5\"\n",
            "_________________________________________________________________\n",
            " Layer (type)                Output Shape              Param #   \n",
            "=================================================================\n",
            " dense_17 (Dense)            (None, 16)                96        \n",
            "                                                                 \n",
            " dense_18 (Dense)            (None, 32)                544       \n",
            "                                                                 \n",
            " dense_19 (Dense)            (None, 32)                1056      \n",
            "                                                                 \n",
            " dense_20 (Dense)            (None, 1)                 33        \n",
            "                                                                 \n",
            "=================================================================\n",
            "Total params: 1,729\n",
            "Trainable params: 1,729\n",
            "Non-trainable params: 0\n",
            "_________________________________________________________________\n"
          ]
        }
      ]
    },
    {
      "cell_type": "code",
      "source": [
        "lossfunction = tf.keras.losses.BinaryCrossentropy()\n",
        "model2.compile(optimizer= 'adam', loss= lossfunction, metrics=['accuracy'])"
      ],
      "metadata": {
        "id": "3SawdepGwXcg"
      },
      "execution_count": 61,
      "outputs": []
    },
    {
      "cell_type": "code",
      "source": [
        "fitmodel = model2.fit(train_x, train_y, epochs=5, validation_split=0.3)"
      ],
      "metadata": {
        "colab": {
          "base_uri": "https://localhost:8080/"
        },
        "id": "8U32vAsawZ6t",
        "outputId": "35df6e60-9011-4171-aa1c-188c4eeb5277"
      },
      "execution_count": 36,
      "outputs": [
        {
          "output_type": "stream",
          "name": "stdout",
          "text": [
            "Epoch 1/5\n",
            "88/88 [==============================] - 1s 3ms/step - loss: 2.2911 - accuracy: 0.7189 - val_loss: 0.5971 - val_accuracy: 0.7283\n",
            "Epoch 2/5\n",
            "88/88 [==============================] - 0s 2ms/step - loss: 0.5401 - accuracy: 0.8029 - val_loss: 0.5417 - val_accuracy: 0.8017\n",
            "Epoch 3/5\n",
            "88/88 [==============================] - 0s 2ms/step - loss: 0.5135 - accuracy: 0.8043 - val_loss: 0.4832 - val_accuracy: 0.7842\n",
            "Epoch 4/5\n",
            "88/88 [==============================] - 0s 2ms/step - loss: 0.4752 - accuracy: 0.8093 - val_loss: 0.5045 - val_accuracy: 0.8017\n",
            "Epoch 5/5\n",
            "88/88 [==============================] - 0s 2ms/step - loss: 0.4474 - accuracy: 0.8139 - val_loss: 0.4529 - val_accuracy: 0.8025\n"
          ]
        }
      ]
    },
    {
      "cell_type": "code",
      "source": [
        "training_loss, training_acc = model2.evaluate(train_x, train_y)\n",
        "testing_loss, testing_acc = model2.evaluate(test_x, test_y)"
      ],
      "metadata": {
        "colab": {
          "base_uri": "https://localhost:8080/"
        },
        "id": "ihVgf1yTwblP",
        "outputId": "4d921ac7-9e55-4385-a12f-a983d72bb134"
      },
      "execution_count": 62,
      "outputs": [
        {
          "output_type": "stream",
          "name": "stdout",
          "text": [
            "125/125 [==============================] - 0s 1ms/step - loss: 8.9400 - accuracy: 0.8110\n",
            "32/32 [==============================] - 0s 1ms/step - loss: 9.3321 - accuracy: 0.8040\n"
          ]
        }
      ]
    },
    {
      "cell_type": "code",
      "source": [
        "pred = model2.predict(test_x)\n",
        "test_pred = np.argmax(pred, axis = 1)\n",
        "confusion_matrix = tf.math.confusion_matrix(labels= test_y, predictions=test_pred)\n",
        "print(confusion_matrix)"
      ],
      "metadata": {
        "colab": {
          "base_uri": "https://localhost:8080/"
        },
        "id": "3dl2JdZswdys",
        "outputId": "ba4cfbd9-1485-4fba-f4c4-2392c4847bed"
      },
      "execution_count": 63,
      "outputs": [
        {
          "output_type": "stream",
          "name": "stdout",
          "text": [
            "32/32 [==============================] - 0s 874us/step\n",
            "tf.Tensor(\n",
            "[[804   0]\n",
            " [196   0]], shape=(2, 2), dtype=int32)\n"
          ]
        }
      ]
    },
    {
      "cell_type": "code",
      "source": [
        "fit_model = model2.fit(train_x, train_y, epochs = 5, validation_split = 0.3)\n",
        "\n",
        "\n",
        "plt.plot(fit_model.history['accuracy'])\n",
        "plt.plot(fit_model.history['val_accuracy'])\n",
        "plt.legend(['Training accuracy', 'Validation accuracy'])\n",
        "plt.title('Trianing and Validation Accuracies')\n",
        "plt.xlabel('Epoch#')\n",
        "plt.ylabel('Accuracy')"
      ],
      "metadata": {
        "colab": {
          "base_uri": "https://localhost:8080/",
          "height": 486
        },
        "id": "Oyy_LEiDwfxi",
        "outputId": "3914418d-b99b-45e6-e8c3-63f9da0f0e73"
      },
      "execution_count": 65,
      "outputs": [
        {
          "output_type": "stream",
          "name": "stdout",
          "text": [
            "Epoch 1/5\n",
            "88/88 [==============================] - 0s 4ms/step - loss: 0.5170 - accuracy: 0.7925 - val_loss: 0.4439 - val_accuracy: 0.8042\n",
            "Epoch 2/5\n",
            "88/88 [==============================] - 0s 3ms/step - loss: 0.4540 - accuracy: 0.8157 - val_loss: 0.8142 - val_accuracy: 0.6000\n",
            "Epoch 3/5\n",
            "88/88 [==============================] - 0s 2ms/step - loss: 0.6021 - accuracy: 0.7875 - val_loss: 0.3997 - val_accuracy: 0.8192\n",
            "Epoch 4/5\n",
            "88/88 [==============================] - 0s 2ms/step - loss: 0.4374 - accuracy: 0.8204 - val_loss: 0.4037 - val_accuracy: 0.8200\n",
            "Epoch 5/5\n",
            "88/88 [==============================] - 0s 2ms/step - loss: 0.4798 - accuracy: 0.8150 - val_loss: 0.4762 - val_accuracy: 0.8075\n"
          ]
        },
        {
          "output_type": "execute_result",
          "data": {
            "text/plain": [
              "Text(0, 0.5, 'Accuracy')"
            ]
          },
          "metadata": {},
          "execution_count": 65
        },
        {
          "output_type": "display_data",
          "data": {
            "text/plain": [
              "<Figure size 432x288 with 1 Axes>"
            ],
            "image/png": "[encoded data removed]"
          },
          "metadata": {
            "needs_background": "light"
          }
        }
      ]
    },
    {
      "cell_type": "code",
      "source": [
        "plt.plot(fit_model.history['loss'])\n",
        "plt.plot(fit_model.history['val_loss'])\n",
        "plt.legend(['Training loss', 'Validation loss'])\n",
        "plt.title('Trianing and Validation Losses')\n",
        "plt.xlabel('Epoch#')\n",
        "plt.ylabel('Loss')"
      ],
      "metadata": {
        "colab": {
          "base_uri": "https://localhost:8080/",
          "height": 312
        },
        "id": "vo1X7oIWwh8_",
        "outputId": "71207e4d-4996-457e-df4e-ead1e12c1764"
      },
      "execution_count": 66,
      "outputs": [
        {
          "output_type": "execute_result",
          "data": {
            "text/plain": [
              "Text(0, 0.5, 'Loss')"
            ]
          },
          "metadata": {},
          "execution_count": 66
        },
        {
          "output_type": "display_data",
          "data": {
            "text/plain": [
              "<Figure size 432x288 with 1 Axes>"
            ],
            "image/png": "[encoded data removed]"
          },
          "metadata": {
            "needs_background": "light"
          }
        }
      ]
    },
    {
      "cell_type": "code",
      "source": [
        "# Priyanka helped from priyanka in binary cross entropy and in confusion matrix"
      ],
      "metadata": {
        "id": "tMhthlRpwkLd"
      },
      "execution_count": 40,
      "outputs": []
    }
  ]
}